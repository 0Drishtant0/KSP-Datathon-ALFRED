{
 "cells": [
  {
   "cell_type": "markdown",
   "metadata": {},
   "source": [
    "# Police Officer Recommendation System\n",
    "\n",
    "## Introduction\n",
    "The Police Officer Recommendation System is a project aimed at providing recommendations for police officer assignments based on various factors such as experience, skills, and performance. This system utilizes machine learning algorithms to analyze historical data and make predictions on the suitability of officers for different roles.\n",
    "\n",
    "## Dataset\n",
    "The dataset used for this project contains information about police officers, including their age, gender, years of experience, education level, and performance ratings. It also includes details about the different roles within the police department.\n",
    "\n",
    "## Methodology\n",
    "The recommendation system follows the following steps:\n",
    "\n",
    "1. Data Preprocessing: The dataset is cleaned and prepared for analysis. Missing values are handled, categorical variables are encoded, and feature scaling is applied if necessary.\n",
    "\n",
    "2. Feature Selection: Relevant features are selected based on their importance in predicting officer suitability for different roles. This helps in reducing dimensionality and improving model performance.\n",
    "\n",
    "3. Model Training: Machine learning models, such as Random Forest Classifier, are trained on the preprocessed data to learn patterns and make predictions.\n",
    "\n",
    "4. Model Evaluation: The trained models are evaluated using performance metrics such as accuracy, precision, recall, and F1-score. This helps in assessing the effectiveness of the recommendation system.\n",
    "\n",
    "5. Recommendation Generation: Based on the trained models, recommendations are generated for officer assignments. These recommendations take into account the officer's skills, experience, and performance ratings.\n",
    "\n",
    "## Conclusion\n",
    "The Police Officer Recommendation System provides a data-driven approach to optimize officer assignments within the police department. By leveraging machine learning techniques, it aims to improve the efficiency and effectiveness of police operations.\n",
    "\n"
   ]
  },
  {
   "cell_type": "code",
   "execution_count": null,
   "metadata": {},
   "outputs": [],
   "source": [
    "# Import necessary libraries\n",
    "import pandas as pd\n",
    "from sklearn.model_selection import train_test_split\n",
    "from sklearn.ensemble import RandomForestClassifier\n",
    "from sklearn.metrics import accuracy_score, classification_report\n",
    "from sklearn.preprocessing import LabelEncoder"
   ]
  },
  {
   "cell_type": "markdown",
   "metadata": {},
   "source": [
    "> Labeling"
   ]
  },
  {
   "cell_type": "code",
   "execution_count": null,
   "metadata": {},
   "outputs": [],
   "source": [
    "le = LabelEncoder()\n",
    "data['crime_type'] = le.fit_transform(data['crime_type'])\n",
    "data['location'] = le.fit_transform(data['location'])\n",
    "data['availability'] = le.fit_transform(data['availability'])\n",
    "data['officer_assigned'] = le.fit_transform(data['officer_assigned'])\n",
    "\n",
    "# Define features (X) and target variable (y)\n",
    "X = data[['crime_type', 'experience', 'location', 'availability']]\n",
    "y = data['officer_assigned']"
   ]
  },
  {
   "cell_type": "markdown",
   "metadata": {},
   "source": [
    ">Train test split"
   ]
  },
  {
   "cell_type": "code",
   "execution_count": null,
   "metadata": {},
   "outputs": [],
   "source": [
    "X_train, X_test, y_train, y_test = train_test_split(X, y, test_size=0.2, random_state=42)\n"
   ]
  },
  {
   "cell_type": "markdown",
   "metadata": {},
   "source": [
    "> Model prediction"
   ]
  },
  {
   "cell_type": "code",
   "execution_count": null,
   "metadata": {},
   "outputs": [],
   "source": [
    "model = RandomForestClassifier()\n",
    "\n",
    "# Train the model\n",
    "model.fit(X_train, y_train)\n",
    "\n",
    "# Make predictions on the test set\n",
    "y_pred = model.predict(X_test)\n"
   ]
  }
 ],
 "metadata": {
  "language_info": {
   "name": "python"
  }
 },
 "nbformat": 4,
 "nbformat_minor": 2
}
